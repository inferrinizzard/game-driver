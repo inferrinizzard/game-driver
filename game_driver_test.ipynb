{
 "cells": [
  {
   "cell_type": "code",
   "execution_count": 1,
   "metadata": {},
   "outputs": [],
   "source": [
    "from chromium import Chromium\n",
    "from chrome_dev_protocol import ChromeDevToolsProtocol as CDP\n",
    "from game_driver import GameDriver"
   ]
  },
  {
   "cell_type": "code",
   "execution_count": 6,
   "metadata": {},
   "outputs": [
    {
     "name": "stdout",
     "output_type": "stream",
     "text": [
      "chrome started\n",
      "hosting at: ws://127.0.0.1:9222/devtools/browser/2409ccaa-329c-44fe-b9f1-41b1670386aa\n",
      "\n",
      "could not close chromium with exception: psutil.NoSuchProcess no process found with pid 45704\n",
      "event: Target.attachedToTarget {'sessionId': '7ABD73B03772C26695F8CA1FC3A88E44', 'targetInfo': {'targetId': '93279F6C079CBDD5088BAC1EE5269A6F', 'type': 'page', 'title': '', 'url': 'http://ipchicken.com/', 'attached': True, 'browserContextId': '2C45E72C6F01974AD1D4DCEDEB9A8F70'}, 'waitingForDebugger': False}\n"
     ]
    }
   ],
   "source": [
    "chromium = Chromium(headless=False)\n",
    "cdp = CDP(chromium.url)\n",
    "driver = GameDriver(cdp)"
   ]
  },
  {
   "cell_type": "code",
   "execution_count": 9,
   "metadata": {},
   "outputs": [
    {
     "data": {
      "text/plain": [
       "{'frameId': '93279F6C079CBDD5088BAC1EE5269A6F',\n",
       " 'loaderId': '7109B91A4FB4D4213D2AF39F4DDB5484'}"
      ]
     },
     "execution_count": 9,
     "metadata": {},
     "output_type": "execute_result"
    }
   ],
   "source": [
    "driver.navigate(\"https://v6p9d9t4.ssl.hwcdn.net/html/1379043/index.html\")\n",
    "# driver.navigate(\"https://unixpapa.com/js/testkey.html\")\n",
    "# driver.navigate(\"https://mattmakesgames.itch.io/celesteclassic\")\n",
    "# driver.navigate(\"https://v6p9d9t4.ssl.hwcdn.net/html/235259/Celeste/index.html?v=1542780913\")\n",
    "# driver.navigate(\"https://dunnbypaul.net/js_mouse/\")"
   ]
  },
  {
   "cell_type": "code",
   "execution_count": null,
   "metadata": {},
   "outputs": [
    {
     "name": "stdout",
     "output_type": "stream",
     "text": [
      "record mode on\n",
      "record mode off, playback mode on\n",
      "playback mode off, record mode on\n",
      "record mode off, playback mode on\n",
      "playback mode off, record mode on\n",
      "record mode off, playback mode on\n",
      "playback mode off, record mode on\n",
      "clearing event log\n",
      "record mode off, playback mode on\n"
     ]
    }
   ],
   "source": [
    "driver.run()"
   ]
  },
  {
   "cell_type": "code",
   "execution_count": 4,
   "metadata": {},
   "outputs": [
    {
     "name": "stdout",
     "output_type": "stream",
     "text": [
      "record mode on\n",
      "exiting\n"
     ]
    }
   ],
   "source": [
    "event_log = [] # make this a class variable\n",
    "event_keys = [] # make this a class variable\n",
    "event_mouse = [] # make this a class variable\n",
    "read_mode = True # local\n",
    "print(\"record mode on\")\n",
    "exit = False\n",
    "while not exit:\n",
    "    if read_mode:\n",
    "        for e in driver.get_events():\n",
    "#             print(e)\n",
    "            if e['event'][0] == \"keydown\" and ord(e['event'][1]) == 220:\n",
    "                print(\"record mode off, playback mode on\")\n",
    "                event_keys = [key[\"event\"][1] for key in filter(lambda x: \"keydown\" in x[\"event\"][0], event_log)]\n",
    "                event_log = []\n",
    "                read_mode = False\n",
    "                with open(\"keys.out\", 'w') as log:\n",
    "                    log.write((\"_\").join(event_keys))\n",
    "                break\n",
    "            elif e['event'][0] == \"keydown\" and ord(e['event'][1]) == 221:\n",
    "                event_log = []\n",
    "                print(\"clearing event log\")\n",
    "                break\n",
    "            elif e['event'][0] == \"keydown\" and ord(e['event'][1]) == 219:\n",
    "                exit = True\n",
    "                print(\"exiting\")\n",
    "                break\n",
    "            else:\n",
    "                event_log.append(e)\n",
    "    else:\n",
    "        with open('keys.out' , 'r') as log:\n",
    "            e_k = log.read()\n",
    "            event_keys = e_k.split(\"_\")\n",
    "        if(not event_keys):\n",
    "            read_mode = True\n",
    "            print(\"playback mode off, record mode on\")\n",
    "            continue\n",
    "#         time.sleep(.1)\n",
    "        e = random.choice(event_keys)\n",
    "        driver.press_key(e)\n",
    "#         print(\"pressed '\"+e+\"'\")\n",
    "        last = (lambda x: x[-1] if x else None)(driver.get_events())\n",
    "        if last and last['event'][0] == \"keyup\" and ord(last['event'][1]) == 220:\n",
    "            print(\"playback mode off, record mode on\")\n",
    "            read_mode = True\n",
    "            event_keys = []"
   ]
  },
  {
   "cell_type": "code",
   "execution_count": null,
   "metadata": {},
   "outputs": [],
   "source": [
    "# print(driver.get_events())\n",
    "print(event_log)\n",
    "print(event_keys)\n",
    "event_keys=[]"
   ]
  },
  {
   "cell_type": "code",
   "execution_count": 5,
   "metadata": {},
   "outputs": [
    {
     "data": {
      "text/plain": [
       "[[809, 577, 0],\n",
       " [765, 584, 0],\n",
       " [719, 594, 0],\n",
       " [638, 617, 0],\n",
       " [587, 639, 0],\n",
       " [560, 651, 0],\n",
       " [531, 660, 0],\n",
       " [521, 660, 0],\n",
       " [515, 660, 0],\n",
       " [508, 652, 0],\n",
       " [500, 639, 0],\n",
       " [480, 589, 0],\n",
       " [463, 515, 0],\n",
       " [466, 467, 0],\n",
       " [503, 435, 0],\n",
       " [569, 451, 0],\n",
       " [610, 501, 0],\n",
       " [639, 575, 0],\n",
       " [625, 613, 0],\n",
       " [557, 649, 0],\n",
       " [518, 652, 0],\n",
       " [478, 636, 0],\n",
       " [466, 604, 0],\n",
       " [483, 549, 0],\n",
       " [527, 532, 0],\n",
       " [580, 556, 0],\n",
       " [606, 608, 0],\n",
       " [610, 672, 0],\n",
       " [567, 714, 0],\n",
       " [514, 723, 0],\n",
       " [475, 707, 0],\n",
       " [442, 630, 0],\n",
       " [448, 593, 0],\n",
       " [496, 541, 0],\n",
       " [546, 526, 0],\n",
       " [588, 540, 0],\n",
       " [609, 570, 0],\n",
       " [610, 584, 0],\n",
       " [610, 586, 0],\n",
       " [610, 588, 0],\n",
       " [610, 586, 0],\n",
       " [610, 586, 0],\n",
       " [610, 586, 0],\n",
       " [610, 586, 0],\n",
       " [609, 586, 0],\n",
       " [608, 584, 0],\n",
       " [606, 565, 0],\n",
       " [603, 511, 0],\n",
       " [601, 389, 0],\n",
       " [601, 211, 0],\n",
       " [601, 146, 0],\n",
       " [824, 6, 0],\n",
       " [824, 10, 0],\n",
       " [819, 37, 0],\n",
       " [807, 106, 0],\n",
       " [774, 236, 0],\n",
       " [745, 302, 0],\n",
       " [699, 377, 0],\n",
       " [655, 421, 0],\n",
       " [604, 452, 0],\n",
       " [580, 452, 0],\n",
       " [562, 408, 0],\n",
       " [564, 369, 0],\n",
       " [585, 360, 0],\n",
       " [606, 381, 0],\n",
       " [619, 408, 0],\n",
       " [619, 436, 0],\n",
       " [618, 446, 0],\n",
       " [617, 447, 0],\n",
       " [617, 447, 0],\n",
       " [617, 447, 0]]"
      ]
     },
     "execution_count": 5,
     "metadata": {},
     "output_type": "execute_result"
    }
   ],
   "source": [
    "event_mouse = [key[\"event\"][1] for key in filter(lambda x: \"mouse\" in x[\"event\"][0], event_log)]\n",
    "event_mouse"
   ]
  },
  {
   "cell_type": "code",
   "execution_count": 7,
   "metadata": {},
   "outputs": [],
   "source": [
    "for i in range(5):\n",
    "    time.sleep(.1)\n",
    "    e = random.choice(event_mouse)\n",
    "    driver.press_mouse(pos={\"x\":e[0], \"y\":e[1]})"
   ]
  },
  {
   "cell_type": "code",
   "execution_count": 4,
   "metadata": {},
   "outputs": [
    {
     "name": "stdout",
     "output_type": "stream",
     "text": [
      "{}\n",
      "{}\n",
      "{}\n",
      "{}\n",
      "{}\n",
      "{}\n",
      "{}\n",
      "{}\n",
      "{}\n",
      "{}\n",
      "{}\n",
      "{}\n"
     ]
    }
   ],
   "source": [
    "for i in range(5):\n",
    "    time.sleep(.1)\n",
    "    e = random.choice([\"(\", \"&\", \"'\", \"%\", \"X\", \"C\"])\n",
    "#     print(\"pressed '\"+e+\"'\")\n",
    "    driver.press_key(e)\n",
    "# driver.press_key('x')"
   ]
  },
  {
   "cell_type": "code",
   "execution_count": null,
   "metadata": {},
   "outputs": [],
   "source": [
    "for e in events:\n",
    "    if e['what'][0] == \"keydown\" and ord(e['what'][1]) == 220:\n",
    "        print"
   ]
  },
  {
   "cell_type": "code",
   "execution_count": 5,
   "metadata": {},
   "outputs": [
    {
     "name": "stdout",
     "output_type": "stream",
     "text": [
      "chromium closed\n"
     ]
    }
   ],
   "source": [
    "try:\n",
    "    del chromium\n",
    "finally:\n",
    "    del driver"
   ]
  },
  {
   "cell_type": "raw",
   "metadata": {},
   "source": []
  }
 ],
 "metadata": {
  "kernelspec": {
   "display_name": "Python 3",
   "language": "python",
   "name": "python3"
  },
  "language_info": {
   "codemirror_mode": {
    "name": "ipython",
    "version": 3
   },
   "file_extension": ".py",
   "mimetype": "text/x-python",
   "name": "python",
   "nbconvert_exporter": "python",
   "pygments_lexer": "ipython3",
   "version": "3.7.3"
  }
 },
 "nbformat": 4,
 "nbformat_minor": 4
}
