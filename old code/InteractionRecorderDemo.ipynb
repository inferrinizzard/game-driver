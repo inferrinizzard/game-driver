{
 "cells": [
  {
   "cell_type": "code",
   "execution_count": 9,
   "metadata": {},
   "outputs": [],
   "source": [
    "from selenium import webdriver\n",
    "from selenium.common.exceptions import NoSuchElementException\n",
    "import time\n",
    "import os\n",
    "import sys\n",
    "\n",
    "from IPython.display import Image\n",
    "\n",
    "#a function to create an instance of the webdriver\n",
    "def get_browser():\n",
    "    options = webdriver.ChromeOptions()\n",
    "    return webdriver.Chrome(options=options)\n",
    "def get_inputs(events):\n",
    "    #extracting workable inputs from those recorded\n",
    "    inputs=[]\n",
    "    for event in events:\n",
    "        inputs.append(events[1][0])\n",
    "    return inputs"
   ]
  },
  {
   "cell_type": "code",
   "execution_count": 2,
   "metadata": {},
   "outputs": [],
   "source": [
    "collection_script = '''\n",
    "(function() {\n",
    "var events = [];\n",
    "function observe(...args) {\n",
    "    console.log(args[0]);\n",
    "    events.push([+new Date(), args]);\n",
    "}\n",
    "window.addEventListener('mousedown', function (e) { observe(['mousedown', [e.clientX, e.clientY, e.button]]); }, true);\n",
    "window.addEventListener('mousemove', function (e) { observe(['mousemove', [e.clientX, e.clientY, e.button]]); }, true);\n",
    "window.addEventListener('mouseup',   function (e) { observe(['mouseup', [e.clientX, e.clientY, e.button]]); }, true);\n",
    "window.addEventListener('keyup',     function (e) { observe(['keyup', String.fromCharCode(e.keyCode)]); }, true);\n",
    "window.addEventListener('keydown',   function (e) { observe(['keydown', String.fromCharCode(e.keyCode)]); }, true);\n",
    "window._getRecentEvents = function() {\n",
    "    var batch = events;\n",
    "    events = [];\n",
    "    return batch; };\n",
    "})();\n",
    "'''"
   ]
  },
  {
   "cell_type": "code",
   "execution_count": 21,
   "metadata": {
    "scrolled": true
   },
   "outputs": [
    {
     "name": "stdout",
     "output_type": "stream",
     "text": [
      "switched to iframe\n",
      "All done.\n"
     ]
    }
   ],
   "source": [
    "link = \"https://egos.itch.io/free-bug\"#link to application which needs input recorded\n",
    "#to do for harmen:\n",
    "#get it working to switch iframes and get all input\n",
    "#get it started with injecting input\n",
    "events = []\n",
    "screenshots = None\n",
    "\n",
    "try:\n",
    "    with get_browser() as browser:\n",
    "        browser.get(link)\n",
    "        \n",
    "        browser.execute_script(collection_script)\n",
    "        \n",
    "        while True:\n",
    "            if browser.find_elements_by_tag_name('iframe'):#detects the iframe that the game is running in\n",
    "            #or browser.find_element_by_id('game_drop'):\n",
    "                print(\"switched to iframe\")\n",
    "                iframe=browser.find_elements_by_tag_name('iframe')[0]\n",
    "                browser.switch_to.frame(iframe)#switches the browser to the iframe\n",
    "                browser.execute_script(collection_script)# you need to rerun the collection script once you have switched to the iframe to remedy a javascript error\n",
    "            batch = browser.execute_script('return window._getRecentEvents();')\n",
    "            events.extend(batch)\n",
    "            if screenshots is not None:\n",
    "                screenshots.append((time.time(), browser.get_screenshot_as_png()))\n",
    "            \n",
    "except KeyboardInterrupt:\n",
    "    print('All done.')\n",
    "    pass"
   ]
  },
  {
   "cell_type": "code",
   "execution_count": 22,
   "metadata": {},
   "outputs": [
    {
     "data": {
      "text/plain": [
       "[[1571426977245, [['mousemove', [222, 10, 0]]]],\n",
       " [1571426977274, [['mousemove', [204, 41, 0]]]],\n",
       " [1571426977297, [['mousemove', [200, 48, 0]]]],\n",
       " [1571426977323, [['mousemove', [199, 52, 0]]]],\n",
       " [1571426977356, [['mousemove', [197, 54, 0]]]],\n",
       " [1571426977373, [['mousemove', [197, 55, 0]]]],\n",
       " [1571426977389, [['mousemove', [196, 58, 0]]]],\n",
       " [1571426977405, [['mousemove', [193, 64, 0]]]],\n",
       " [1571426977423, [['mousemove', [192, 68, 0]]]],\n",
       " [1571426977439, [['mousemove', [190, 72, 0]]]],\n",
       " [1571426977455, [['mousemove', [189, 74, 0]]]],\n",
       " [1571426977471, [['mousemove', [189, 76, 0]]]],\n",
       " [1571426977489, [['mousemove', [189, 79, 0]]]],\n",
       " [1571426977505, [['mousemove', [192, 88, 0]]]],\n",
       " [1571426977523, [['mousemove', [199, 97, 0]]]],\n",
       " [1571426977540, [['mousemove', [210, 108, 0]]]],\n",
       " [1571426977556, [['mousemove', [224, 121, 0]]]],\n",
       " [1571426977573, [['mousemove', [232, 126, 0]]]],\n",
       " [1571426977604, [['mousemove', [238, 132, 0]]]],\n",
       " [1571426977818, [['mousedown', [238, 132, 0]]]],\n",
       " [1571426977907, [['mouseup', [238, 132, 0]]]],\n",
       " [1571426978189, [['mousemove', [277, 155, 0]]]],\n",
       " [1571426978205, [['mousemove', [324, 188, 0]]]],\n",
       " [1571426978224, [['mousemove', [368, 227, 0]]]],\n",
       " [1571426978237, [['mousemove', [382, 241, 0]]]],\n",
       " [1571426978255, [['mousemove', [389, 252, 0]]]],\n",
       " [1571426978271, [['mousemove', [391, 255, 0]]]],\n",
       " [1571426979088, [['mousemove', [450, 230, 0]]]],\n",
       " [1571426979106, [['mousemove', [547, 186, 0]]]],\n",
       " [1571426979122, [['mousemove', [652, 146, 0]]]],\n",
       " [1571426979137, [['mousemove', [741, 118, 0]]]],\n",
       " [1571426979145, [['mousemove', [773, 111, 0]]]],\n",
       " [1571426982271, [['mousemove', [787, 175, 0]]]],\n",
       " [1571426982273, [['mousemove', [716, 221, 0]]]],\n",
       " [1571426982287, [['mousemove', [640, 258, 0]]]],\n",
       " [1571426982306, [['mousemove', [587, 280, 0]]]],\n",
       " [1571426982322, [['mousemove', [548, 288, 0]]]],\n",
       " [1571426982338, [['mousemove', [538, 291, 0]]]],\n",
       " [1571426982354, [['mousemove', [532, 292, 0]]]],\n",
       " [1571426982371, [['mousemove', [528, 292, 0]]]],\n",
       " [1571426982388, [['mousemove', [526, 293, 0]]]],\n",
       " [1571426982406, [['mousemove', [525, 293, 0]]]],\n",
       " [1571426982420, [['mousemove', [524, 293, 0]]]],\n",
       " [1571426982437, [['mousemove', [524, 293, 0]]]],\n",
       " [1571426982470, [['mousemove', [523, 293, 0]]]],\n",
       " [1571426982520, [['mousedown', [522, 293, 0]]]],\n",
       " [1571426982629, [['mouseup', [522, 293, 0]]]],\n",
       " [1571426982733, [['keydown', 'F']]],\n",
       " [1571426982742, [['keydown', 'D']]],\n",
       " [1571426982859, [['keydown', 'S']]],\n",
       " [1571426982891, [['keyup', 'F']]],\n",
       " [1571426982934, [['keyup', 'D']]],\n",
       " [1571426982971, [['keydown', 'A']]],\n",
       " [1571426983032, [['keyup', 'S']]],\n",
       " [1571426983047, [['keydown', 'F']]],\n",
       " [1571426983181, [['keydown', 'D']]],\n",
       " [1571426983210, [['keydown', 'S']]],\n",
       " [1571426983224, [['keyup', 'F']]],\n",
       " [1571426983389, [['keydown', 'F']]],\n",
       " [1571426983439, [['keyup', 'S']]],\n",
       " [1571426983450, [['keyup', 'A']]],\n",
       " [1571426983532, [['keyup', 'D']]],\n",
       " [1571426983606, [['keyup', 'F']]],\n",
       " [1571426984136, [['mousemove', [522, 292, 0]]]],\n",
       " [1571426984171, [['mousemove', [522, 290, 0]]]],\n",
       " [1571426984186, [['mousemove', [526, 281, 0]]]],\n",
       " [1571426984204, [['mousemove', [558, 236, 0]]]],\n",
       " [1571426984220, [['mousemove', [586, 212, 0]]]],\n",
       " [1571426984237, [['mousemove', [600, 201, 0]]]],\n",
       " [1571426984254, [['mousemove', [607, 199, 0]]]],\n",
       " [1571426984270, [['mousemove', [607, 198, 0]]]],\n",
       " [1571426984287, [['mousemove', [608, 198, 0]]]],\n",
       " [1571426984303, [['mousemove', [608, 198, 0]]]],\n",
       " [1571426984353, [['mousemove', [609, 198, 0]]]],\n",
       " [1571426984369, [['mousemove', [610, 198, 0]]]],\n",
       " [1571426984621, [['mousemove', [680, 130, 0]]]],\n",
       " [1571426984635, [['mousemove', [768, 60, 0]]]],\n",
       " [1571426985272, [['mousemove', [579, 34, 0]]]],\n",
       " [1571426985288, [['mousemove', [479, 76, 0]]]],\n",
       " [1571426985305, [['mousemove', [292, 111, 0]]]],\n",
       " [1571426985321, [['mousemove', [230, 111, 0]]]],\n",
       " [1571426985337, [['mousemove', [181, 106, 0]]]],\n",
       " [1571426985355, [['mousemove', [156, 102, 0]]]],\n",
       " [1571426985370, [['mousemove', [151, 102, 0]]]],\n",
       " [1571426985403, [['mousemove', [151, 103, 0]]]],\n",
       " [1571426985604, [['mousemove', [129, 106, 0]]]],\n",
       " [1571426985620, [['mousemove', [16, 116, 0]]]]]"
      ]
     },
     "execution_count": 22,
     "metadata": {},
     "output_type": "execute_result"
    }
   ],
   "source": [
    "events"
   ]
  },
  {
   "cell_type": "code",
   "execution_count": 15,
   "metadata": {},
   "outputs": [
    {
     "data": {
      "text/plain": [
       "1571426077046"
      ]
     },
     "execution_count": 15,
     "metadata": {},
     "output_type": "execute_result"
    }
   ],
   "source": [
    "get_inputs(events)"
   ]
  },
  {
   "cell_type": "code",
   "execution_count": 2,
   "metadata": {},
   "outputs": [
    {
     "ename": "NameError",
     "evalue": "name 'screenshots' is not defined",
     "output_type": "error",
     "traceback": [
      "\u001b[1;31m---------------------------------------------------------------------------\u001b[0m",
      "\u001b[1;31mNameError\u001b[0m                                 Traceback (most recent call last)",
      "\u001b[1;32m<ipython-input-2-edb94f36c1aa>\u001b[0m in \u001b[0;36m<module>\u001b[1;34m\u001b[0m\n\u001b[1;32m----> 1\u001b[1;33m \u001b[0mprint\u001b[0m\u001b[1;33m(\u001b[0m\u001b[0mscreenshots\u001b[0m\u001b[1;33m)\u001b[0m\u001b[1;33m\u001b[0m\u001b[1;33m\u001b[0m\u001b[0m\n\u001b[0m",
      "\u001b[1;31mNameError\u001b[0m: name 'screenshots' is not defined"
     ]
    }
   ],
   "source": []
  },
  {
   "cell_type": "code",
   "execution_count": null,
   "metadata": {},
   "outputs": [],
   "source": []
  }
 ],
 "metadata": {
  "kernelspec": {
   "display_name": "Python 3",
   "language": "python",
   "name": "python3"
  },
  "language_info": {
   "codemirror_mode": {
    "name": "ipython",
    "version": 3
   },
   "file_extension": ".py",
   "mimetype": "text/x-python",
   "name": "python",
   "nbconvert_exporter": "python",
   "pygments_lexer": "ipython3",
   "version": "3.7.3"
  }
 },
 "nbformat": 4,
 "nbformat_minor": 4
}
