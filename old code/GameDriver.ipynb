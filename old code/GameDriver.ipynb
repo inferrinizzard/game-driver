{
 "cells": [
  {
   "cell_type": "code",
   "execution_count": 29,
   "metadata": {},
   "outputs": [],
   "source": [
    "import time\n",
    "import os\n",
    "import sys\n",
    "from threading import Timer\n",
    "import random\n",
    "\n",
    "from selenium import webdriver\n",
    "from selenium.common.exceptions import NoSuchElementException, TimeoutException\n",
    "from selenium.webdriver.support.ui import WebDriverWait\n",
    "from selenium.webdriver.support import expected_conditions as EC\n",
    "from selenium.webdriver.common.by import By\n",
    "from selenium.webdriver.common.action_chains import ActionChains\n",
    "from selenium.webdriver.common.keys import Keys\n",
    "\n",
    "from IPython.display import Image\n",
    "from IPython.display import display"
   ]
  },
  {
   "cell_type": "code",
   "execution_count": 28,
   "metadata": {},
   "outputs": [],
   "source": [
    "class GameDriver():\n",
    "    def __init__(self, headless=True):\n",
    "        options = webdriver.ChromeOptions()\n",
    "        self.browser = webdriver.Chrome(options=options)\n",
    "        self.actor = ActionChains(self.browser)\n",
    "\n",
    "    def navigate(self, url):\n",
    "        self.browser.get(url) # tells Chrome to go to page\n",
    "#         try: # waits until load\n",
    "#             WebDriverWait(self.browser, 3).until(EC.presence_of_element_located((By.TAG_NAME, 'iframe')))\n",
    "#         except TimeoutException:\n",
    "#             print(\"timeout\")\n",
    "        self.inject_collection_script() # injects event collection script\n",
    "    \n",
    "    def step(self, action=None):\n",
    "        iframe = self.browser.find_element_by_css_selector(\"iframe#game_drop\")\n",
    "        if action is not None: # before or after?\n",
    "            self.actor.click(iframe)\n",
    "            self.actor.send_keys(action).perform()\n",
    "            \n",
    "#             order: input action, then delay some, then collect data\n",
    "            \n",
    "        events = [] # list of all user events since last step (including recently injected)\n",
    "#         while True:\n",
    "#             if self.browser.find_element_by_tag_name(\"iframe\"):\n",
    "#                 self.browser.switch_to.frame(iframe)\n",
    "#             self.inject_collection_script()\n",
    "#             batch = self.browser.execute_script('return window._getRecentEvents();')\n",
    "#             events.extend(batch)\n",
    "#             break\n",
    "        # if events seem suspicious, try to select right iframe or re-inject collection script\n",
    "        screenshot = iframe.screenshot_as_png # PNG data as bytes\n",
    "#         screenshot = None\n",
    "        url = self.browser.current_url # currrent browser location\n",
    "        metadata = None\n",
    "        return screenshot, events, url, metadata\n",
    "    \n",
    "    def inject_collection_script(self):\n",
    "        collection_script = '''\n",
    "        (() => {\n",
    "        let events = [];\n",
    "        const inputs = (key, e) => [key, key.startsWith('mouse') ? [e.clientX, e.clientY, e.button] : String.fromCharCode(e.keyCode)]\n",
    "        ['mousedown', 'mousemove', 'mouseup', 'keyup', 'keydown'].forEach(k => window.addEventListener(k, e => events.push({[+new Date()]: inputs(k,e)}),true));\n",
    "        window._getRecentEvents = () => events.splice(0, events.length);\n",
    "        })();\n",
    "        '''\n",
    "        self.browser.execute_script(collection_script)\n",
    "    def close(self):\n",
    "        self.browser.close()"
   ]
  },
  {
   "cell_type": "code",
   "execution_count": 31,
   "metadata": {},
   "outputs": [
    {
     "name": "stdout",
     "output_type": "stream",
     "text": [
      "[]\n"
     ]
    }
   ],
   "source": [
    "driver = GameDriver()\n",
    "driver.navigate(\"https://mattmakesgames.itch.io/celesteclassic\")\n",
    "screenshots, events, url, metadata = driver.step()\n",
    "# events, url, metadata = driver.step(\"c\")\n",
    "# time.sleep(3)\n",
    "print(events)\n",
    "\n",
    "# time.sleep(3)\n",
    "driver.close()"
   ]
  },
  {
   "cell_type": "code",
   "execution_count": 33,
   "metadata": {},
   "outputs": [
    {
     "data": {
      "text/plain": [
       "'https://mattmakesgames.itch.io/celesteclassic'"
      ]
     },
     "execution_count": 33,
     "metadata": {},
     "output_type": "execute_result"
    }
   ],
   "source": [
    "Image(screenshots)\n",
    "url"
   ]
  }
 ],
 "metadata": {
  "kernelspec": {
   "display_name": "Python 3",
   "language": "python",
   "name": "python3"
  },
  "language_info": {
   "codemirror_mode": {
    "name": "ipython",
    "version": 3
   },
   "file_extension": ".py",
   "mimetype": "text/x-python",
   "name": "python",
   "nbconvert_exporter": "python",
   "pygments_lexer": "ipython3",
   "version": "3.7.4"
  }
 },
 "nbformat": 4,
 "nbformat_minor": 4
}
