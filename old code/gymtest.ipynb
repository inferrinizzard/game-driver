{
 "cells": [
  {
   "cell_type": "code",
   "execution_count": 1,
   "metadata": {},
   "outputs": [],
   "source": [
    "import gym\n",
    "from gym import spaces\n",
    "\n",
    "from selenium import webdriver\n",
    "from selenium.common.exceptions import NoSuchElementException\n",
    "from selenium.webdriver.common.action_chains import ActionChains\n",
    "\n",
    "import time\n",
    "\n",
    "def get_browser():\n",
    "    options = webdriver.ChromeOptions()\n",
    "#     options.AddArguments(\"--disable-gpu\")\n",
    "    return webdriver.Chrome(options=options)"
   ]
  },
  {
   "cell_type": "code",
   "execution_count": 2,
   "metadata": {},
   "outputs": [],
   "source": [
    "class seleniumenv():\n",
    "    count = 0\n",
    "    init_time = 0\n",
    "    \n",
    "    def init(self, url=None, df=None):\n",
    "        super(seleniumenv, self).__init__()\n",
    "        self.df = df # assuming Pandas dataframe\n",
    "        self.browser = get_browser()\n",
    "        if url is not None:\n",
    "            self.browser.get(url)\n",
    "        self.pause()\n",
    "        self.init_time = time.time()\n",
    "        self.browser.execute_script(\"window.addEventListener('virtualTimeBudgetExpired', ()=>console.log(+new Date()))\")\n",
    "        time.sleep(3)\n",
    "        \n",
    "    def click(self, id=\"game_drop\"):\n",
    "        try:\n",
    "            self.iframe = self.browser.find_element_by_css_selector(\"iframe#\"+id)\n",
    "            ActionChains(self.browser).click(self.iframe)\n",
    "            self.browser.switch_to.frame(self.iframe)\n",
    "#             self.browser.switch_to.frame(id)\n",
    "#             print(self.iframe)\n",
    "#             print(self.iframe.tag_name)\n",
    "#             self.browser.switch_to.frame(self.browser.find_elements_by_tag_name(\"iframe\")[0])\n",
    "            print(\"switched to #\" + id)\n",
    "            return self.browser\n",
    "        except:\n",
    "            self.browser.switch_to.default_content\n",
    "            print(\"switched back\")\n",
    "            pass\n",
    "        \n",
    "    def add_frame(self):\n",
    "        body = self.browser.find_element_by_tag_name(\"body\")\n",
    "        self.browser.execute_script(\"arguments[0].innerHTML = '<iframe id=\\\"test\\\" src=\\\"https://liveclock.net/fullScreen.php\\\" width=\\\"800\\\" height=\\\"600\\\"><iframe/>';\", body)\n",
    "    \n",
    "    def pause(self):\n",
    "        self.browser.execute_cdp_cmd(\"Emulation.setVirtualTimePolicy\", {\"policy\":\"pause\"})\n",
    "        print(\"paused \"+self.browser.name + \" at \"+self.browser.current_url)\n",
    "    \n",
    "    def step(self, action=None, budget = 250):\n",
    "        self.count = self.count + 1\n",
    "        self.browser.execute_cdp_cmd(\"Emulation.setVirtualTimePolicy\", {\"policy\":\"advance\", \"budget\": budget})\n",
    "\n",
    "    def reset(self):\n",
    "        pass\n",
    "#         reset\n",
    "\n",
    "    def render(self, mode=\"human\", close=False):\n",
    "        pass\n",
    "#         render"
   ]
  },
  {
   "cell_type": "code",
   "execution_count": 3,
   "metadata": {},
   "outputs": [
    {
     "name": "stdout",
     "output_type": "stream",
     "text": [
      "paused chrome at data:,\n",
      "switched to #test\n",
      "waiting 1 seconds\n",
      "waiting 2 seconds\n",
      "waiting 3 seconds\n",
      "paused chrome at data:,\n"
     ]
    }
   ],
   "source": [
    "selenv = seleniumenv()\n",
    "# selenv.init(\"https://mattmakesgames.itch.io/celesteclassic\")\n",
    "# selenv.init(\"http://flipclockjs.com\")\n",
    "# selenv.init(\"https://liveclock.net/fullScreen.php\")\n",
    "selenv.init()\n",
    "selenv.add_frame()\n",
    "selenv.click(\"test\")\n",
    "exit = 0\n",
    "while exit < 3:\n",
    "    time.sleep(1)\n",
    "    exit = exit+1\n",
    "    print(\"waiting \"+str(exit)+ \" seconds\")\n",
    "selenv.pause()\n",
    "# time.sleep(.1)\n",
    "increment = 2 # ratio of virtual second to real second\n",
    "# while True:\n",
    "#     out = selenv.click()\n",
    "#     if out is not None:\n",
    "#         print(out)\n",
    "#     selenv.step(increment * 1000)\n",
    "#     time.sleep(increment)"
   ]
  },
  {
   "cell_type": "code",
   "execution_count": null,
   "metadata": {},
   "outputs": [],
   "source": []
  }
 ],
 "metadata": {
  "kernelspec": {
   "display_name": "Python 3",
   "language": "python",
   "name": "python3"
  },
  "language_info": {
   "codemirror_mode": {
    "name": "ipython",
    "version": 3
   },
   "file_extension": ".py",
   "mimetype": "text/x-python",
   "name": "python",
   "nbconvert_exporter": "python",
   "pygments_lexer": "ipython3",
   "version": "3.7.3"
  }
 },
 "nbformat": 4,
 "nbformat_minor": 4
}
