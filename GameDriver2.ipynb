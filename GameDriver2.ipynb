{
 "cells": [
  {
   "cell_type": "code",
   "execution_count": 1,
   "metadata": {
    "colab": {
     "base_uri": "https://localhost:8080/",
     "height": 710
    },
    "colab_type": "code",
    "executionInfo": {
     "elapsed": 26479,
     "status": "ok",
     "timestamp": 1573084530779,
     "user": {
      "displayName": "Sean Song",
      "photoUrl": "",
      "userId": "15824911781734573388"
     },
     "user_tz": 480
    },
    "id": "8dqpbZwNJF7H",
    "outputId": "51415da8-8619-44fb-a2cb-f56d25c2906c"
   },
   "outputs": [],
   "source": [
    "import platform\n",
    "os = platform.system()\n",
    "if os is 'Linux':\n",
    "    !apt install chromium-browser\n",
    "    !pip install websocket-client"
   ]
  },
  {
   "cell_type": "code",
   "execution_count": 2,
   "metadata": {
    "colab": {},
    "colab_type": "code",
    "id": "hsIaG_F6JF7J"
   },
   "outputs": [],
   "source": [
    "import websocket\n",
    "import json\n",
    "\n",
    "class ChromeDevToolsProtocolError(Exception):\n",
    "    def __init__(self, error):\n",
    "        self.error = error\n",
    "    \n",
    "    def __repr__(self):\n",
    "        return 'ChromeDevToolsProtocolError: ', json.dumps(self.error)\n",
    "\n",
    "class ChromeDevToolsProtocol():\n",
    "    def __init__(self, url):\n",
    "        self.ws = websocket.create_connection(url, timeout=1)\n",
    "        self.nonce = 0\n",
    "        self.sessionId = None\n",
    "        self.handlers = {}\n",
    "        self.on('Target.attachedToTarget', self.attachedToTarget)\n",
    "        self.on('Target.detachedFromTarget', self.detatchedFromTarget)\n",
    "    \n",
    "    def attachedToTarget(self, **params):\n",
    "        self.sessionId = params['sessionId']\n",
    "    \n",
    "    def detatchedFromTarget(self, **params):\n",
    "        self.sessionId = None\n",
    "        \n",
    "    def on(self, method, handler):\n",
    "        self.handlers[method] = handler\n",
    "        \n",
    "    def send(self, method, **params):\n",
    "        \n",
    "        self.nonce += 1\n",
    "        \n",
    "        msg = dict(id=self.nonce, method=method, params=params)\n",
    "        if self.sessionId is not None:\n",
    "            msg['sessionId'] = self.sessionId\n",
    "            \n",
    "        self.ws.send(json.dumps(msg))\n",
    "        \n",
    "        while True:\n",
    "            raw = self.ws.recv()\n",
    "            reply = json.loads(raw)\n",
    "\n",
    "            if 'method' in reply:\n",
    "                self._handleEvent(reply['method'], **reply['params'])\n",
    "            else:  \n",
    "                assert reply['id'] == self.nonce\n",
    "                if 'error' in reply:\n",
    "                    raise ChromeDevToolsProtocolError(reply['error'])\n",
    "                else:\n",
    "                    return reply['result']\n",
    "    \n",
    "    \n",
    "    def pump(self):\n",
    "        try:\n",
    "            raw = self.ws.recv()\n",
    "            reply = json.loads(raw)\n",
    "            \n",
    "            if 'method' in reply:\n",
    "                self._handleEvent(reply['method'], **reply['params'])\n",
    "        except websocket.WebSocketTimeoutException:\n",
    "            pass\n",
    "    \n",
    "    def _handleEvent(self, method, **params):\n",
    "        print('event:', method, params)\n",
    "        if method in self.handlers:\n",
    "            self.handlers[method](**params)\n",
    "    \n",
    "    def close(self):\n",
    "        self.ws.close()"
   ]
  },
  {
   "cell_type": "code",
   "execution_count": 30,
   "metadata": {
    "colab": {},
    "colab_type": "code",
    "id": "Y-9BcHLvJF7L"
   },
   "outputs": [],
   "source": [
    "from IPython.display import display, clear_output, Image\n",
    "import base64\n",
    "import subprocess\n",
    "chrome_args = \"--remote-debugging-port=9222 --headless --no-sandbox --enable-surface-synchronization --run-all-compositor-stages-before-draw --disable-threaded-animation --disable-threaded-scrolling --disable-checker-imaging --disable-gpu\"\n",
    "class GameDriver():\n",
    "    def __init__(self):\n",
    "        def windows(self):\n",
    "            self.chrome = subprocess.Popen(\".\\\\chrome-win\\\\chrome chromium-browser \"+chrome_args, shell=True, stdout=subprocess.PIPE, stderr=subprocess.PIPE)\n",
    "            output = \"\"\n",
    "            while \"ws\" not in str(output):\n",
    "                output = self.chrome.stderr.readline()\n",
    "            assert(\"ws\" in str(output))\n",
    "            return str(output[str(output).index(\"ws\")-2:-2])[2:]\n",
    "\n",
    "        def linux(self):\n",
    "            !echo > nohup.out\n",
    "            self.chrome = !bash -c \"nohup \"+ chrome_args + \" &\"\n",
    "            !sleep 1\n",
    "            !cat nohup.out\n",
    "            lines = !grep ws nohup.out | cut -f4 -d' '\n",
    "            return lines[0]\n",
    "\n",
    "        if os == 'Windows':\n",
    "            url = windows(self)\n",
    "        elif os == 'Linux':\n",
    "            url = linux(self)\n",
    "        print(\"hosting at: \" + url)\n",
    "        self.cdp = ChromeDevToolsProtocol(url)\n",
    "    \n",
    "    def close(self):\n",
    "        if os == \"Windows\":\n",
    "            self.chrome.kill()\n",
    "            return self.chrome.wait()\n",
    "        \n",
    "    def navigate(self, address):\n",
    "#         if 'itch' in address:\n",
    "#             iframe = self.cdp.find_elements_by_tag_name('iframe')[0]\n",
    "#             iframe_url = \"https:\" + iframe.get_attribute(\"src\")\n",
    "        nav_output = self.cdp.send('Page.navigate', url=address)\n",
    "        self.inject_event_script()\n",
    "        return nav_output\n",
    "\n",
    "    def inject_event_script(self):\n",
    "        collection_script = '''(() => {\n",
    "        let events = [];\n",
    "        const inputs = (key, e) => [key, key.startsWith('mouse') ? [e.clientX, e.clientY, e.button] : String.fromCharCode(e.keyCode)]\n",
    "        ['mousedown', 'mousemove', 'mouseup', 'keyup', 'keydown'].forEach(k => window.addEventListener(k, e => events.push({[+new Date()]: inputs(k,e)}),true));\n",
    "        window._getRecentEvents = () => events.splice(0, events.length);\n",
    "        })();'''\n",
    "#         self.cdp.execute_script(collection_script)\n",
    "        self.cdp.send(\"Runtime.evaluate\", expression=collection_script)\n",
    "        \n",
    "    def get_browser_version(self):\n",
    "        return self.cdp.send('Browser.getVersion')\n",
    "    \n",
    "    def init_ip(self):\n",
    "        targetId = self.cdp.send('Target.createTarget', url='http://ipchicken.com', enableBeginFrameControl=True)['targetId']\n",
    "        sessionId = self.cdp.send('Target.attachToTarget', targetId=targetId,flatten=True)['sessionId']\n",
    "    \n",
    "    def pause(self):\n",
    "        return self.cdp.send('Emulation.setVirtualTimePolicy', policy='pause')\n",
    "\n",
    "    def step(self, dur = 30):\n",
    "        events = []\n",
    "        for i in range(dur):\n",
    "            self.cdp.send('HeadlessExperimental.beginFrame')\n",
    "            batch = self.cdp.send(\"Runtime.evaluate\", expression='return window._getRecentEvents();')\n",
    "            events.extend(batch)\n",
    "        return events\n",
    "    \n",
    "    def press_key(self, key):\n",
    "        def text(letter):\n",
    "            self.cdp.send(\"Input.dispatchKeyEvent\", {\"type\":\"keyDown\", \"windowsVirtualKeyCode\":ord(letter), \"nativeVirtualKeyCode\":ord(letter), \"key\":letter})\n",
    "            self.cdp.send(\"Input.dispatchKeyEvent\", {\"type\":\"char\", \"text\": letter, \"key\": letter})\n",
    "            self.cdp.send(\"Input.dispatchKeyEvent\", {\"type\":\"keyUp\", \"windowsVirtualKeyCode\":ord(letter), \"nativeVirtualKeyCode\":ord(letter), \"key\": letter})\n",
    "\n",
    "#         def space():\n",
    "#             self.cdp.send(\"Input.dispatchKeyEvent\", {\"type\":\"keyDown\", \"windowsVirtualKeyCode\":32, \"nativeVirtualKeyCode\":32})\n",
    "#             self.cdp.send(\"Input.dispatchKeyEvent\", {\"type\":\"char\", \"text\": \" \" })\n",
    "#             self.cdp.send(\"Input.dispatchKeyEvent\", {\"type\":\"keyUp\", \"windowsVirtualKeyCode\":32, \"nativeVirtualKeyCode\":32})\n",
    "\n",
    "        def arrow(dir):\n",
    "            dirs = [\"Left\", \"Up\", \"Right\", \"Down\"]\n",
    "            self.cdp.send(\"Input.dispatchKeyEvent\", {\"type\":\"keyDown\", \"windowsVirtualKeyCode\":37 + dirs.index(dir), \"nativeVirtualKeyCode\":37 + dirs.index(dir), \"key\": \"Arrow\" + dir})\n",
    "            self.cdp.send(\"Input.dispatchKeyEvent\", {\"type\":\"keyUp\", \"windowsVirtualKeyCode\":37 + dirs.index(dir), \"nativeVirtualKeyCode\":37 + dirs.index(dir), \"key\": \"Arrow\" + dir})\n",
    "            \n",
    "        success = False\n",
    "        if(key.isalnum() or key is \" \"):\n",
    "            text(key)\n",
    "            success = True\n",
    "        return success\n",
    "    \n",
    "    def press_mouse(self, pos, button, hold = False):\n",
    "        self.cdp.send('Input.dispatchMouseEvent', type='mousePressed', x=pos.x, y=pos.y, button='left')\n",
    "        \n",
    "    def get_screenshot(self):\n",
    "        res = self.cdp.send('HeadlessExperimental.beginFrame', screenshot={'format':'jpeg'})#, noDisplayUpdates=True)\n",
    "        print(res)\n",
    "        if 'screenshotData' in res:\n",
    "            clear_output()\n",
    "            display(Image(base64.b64decode(res['screenshotData'])))\n",
    "        return res"
   ]
  },
  {
   "cell_type": "code",
   "execution_count": null,
   "metadata": {
    "colab": {
     "base_uri": "https://localhost:8080/",
     "height": 225
    },
    "colab_type": "code",
    "executionInfo": {
     "elapsed": 1194,
     "status": "ok",
     "timestamp": 1573087105813,
     "user": {
      "displayName": "Sean Song",
      "photoUrl": "",
      "userId": "15824911781734573388"
     },
     "user_tz": 480
    },
    "id": "jWax3RJ1Jifa",
    "outputId": "ec8b6d6d-2972-422e-8c0f-03e865c03da9"
   },
   "outputs": [],
   "source": [
    "!ps"
   ]
  },
  {
   "cell_type": "code",
   "execution_count": null,
   "metadata": {
    "colab": {},
    "colab_type": "code",
    "id": "2rn4kDX8JmAy"
   },
   "outputs": [],
   "source": [
    "!kill 1734"
   ]
  },
  {
   "cell_type": "code",
   "execution_count": 31,
   "metadata": {
    "colab": {
     "base_uri": "https://localhost:8080/",
     "height": 193
    },
    "colab_type": "code",
    "executionInfo": {
     "elapsed": 5672,
     "status": "ok",
     "timestamp": 1573087990332,
     "user": {
      "displayName": "Sean Song",
      "photoUrl": "",
      "userId": "15824911781734573388"
     },
     "user_tz": 480
    },
    "id": "sCMdgP8IJF7N",
    "outputId": "42beffa3-61aa-4e9e-ed33-b55fbd326948"
   },
   "outputs": [
    {
     "data": {
      "image/jpeg": "[encoded data removed]",
      "text/plain": [
       "<IPython.core.display.Image object>"
      ]
     },
     "metadata": {},
     "output_type": "display_data"
    },
    {
     "name": "stdout",
     "output_type": "stream",
     "text": [
      "1\n",
      "closed\n"
     ]
    },
    {
     "data": {
      "text/plain": [
       "{'hasDamage': True,\n",
       " 'screenshotData': '/9j/4AAQSkZJRgABAQAAAQABAAD/4gIoSUNDX1BST0ZJTEUAAQEAAAIYAAAAAAIQAABtbnRyUkdCIFhZWiAAAAAAAAAAAAAAAABhY3NwAAAAAAAAAAAAAAAAAAAAAAAAAAAAAAAAAAAAAQAA9tYAAQAAAADTLQAAAAAAAAAAAAAAAAAAAAAAAAAAAAAAAAAAAAAAAAAAAAAAAAAAAAAAAAAAAAAAAAAAAAlkZXNjAAAA8AAAAHRyWFlaAAABZAAAABRnWFlaAAABeAAAABRiWFlaAAABjAAAABRyVFJDAAABoAAAAChnVFJDAAABoAAAAChiVFJDAAABoAAAACh3dHB0AAAByAAAABRjcHJ0AAAB3AAAADxtbHVjAAAAAAAAAAEAAAAMZW5VUwAAAFgAAAAcAHMAUgBHAEIAAAAAAAAAAAAAAAAAAAAAAAAAAAAAAAAAAAAAAAAAAAAAAAAAAAAAAAAAAAAAAAAAAAAAAAAAAAAAAAAAAAAAAAAAAAAAAAAAAAAAAAAAAFhZWiAAAAAAAABvogAAOPUAAAOQWFlaIAAAAAAAAGKZAAC3hQAAGNpYWVogAAAAAAAAJKAAAA+EAAC2z3BhcmEAAAAAAAQAAAACZmYAAPKnAAANWQAAE9AAAApbAAAAAAAAAABYWVogAAAAAAAA9tYAAQAAAADTLW1sdWMAAAAAAAAAAQAAAAxlblVTAAAAIAAAABwARwBvAG8AZwBsAGUAIABJAG4AYwAuACAAMgAwADEANv/bAEMABgQFBgUEBgYFBgcHBggKEAoKCQkKFA4PDBAXFBgYFxQWFhodJR8aGyMcFhYgLCAjJicpKikZHy0wLSgwJSgpKP/bAEMBBwcHCggKEwoKEygaFhooKCgoKCgoKCgoKCgoKCgoKCgoKCgoKCgoKCgoKCgoKCgoKCgoKCgoKCgoKCgoKCgoKP/AABEIAlgDIAMBIgACEQEDEQH/xAAVAAEBAAAAAAAAAAAAAAAAAAAAB//EABQQAQAAAAAAAAAAAAAAAAAAAAD/xAAUAQEAAAAAAAAAAAAAAAAAAAAA/8QAFBEBAAAAAAAAAAAAAAAAAAAAAP/aAAwDAQACEQMRAD8AigAAAAAAAAAAAAAAAAAAAAAAAAAAAAAAAAAAAAAAAAAAAAAAAAAAAAAAAAAAAAAAAAAAAAAAAAAAAAAAAAAAAAAAAAAAAAAAAAAAAAAAAAAAAAAAAAAAAAAAAAAAAAAAAAAAAAAAAAAAAAAAAAAAAAAAAAAAAAAAAAAAAAAAAAAAAAAAAAAAAAAAAAAAAAAAAAAAAAAAAAAAAAAAAAAAAAAAAAAAAAAAAAAAAAAAAAAAAAAAAAAAAAAAAAAAAAAAAAAAAAAAAAAAAAAAAAAAAAAAAAAAAAAAAAAAAAAAAAAAAAAAAAAAAAAAAAAAAAAAAAAAAAAAAAAAAAAAAAAAAAAAAAAAAAAAAAAAAAAAAAAAAAAAAAAAAAAAAAAAAAAAAAAAAAAAAAAAAAAAAAAAAAAAAAAAAAAAAAAAAAAAAAAAAAAAAAAAAAAAAAAAAAAAAAAAAAAAAAAAAAAAAAAAAAAAAAAAAAAAAAAAAAAAAAAAAAAAAAAAAAAAAAAAAAAAAAAAAAAAAAAAAAAAAAAAAAAAAAAAAAAAAAAAAAAAAAAAAAAAAAAAAAAAAAAAAAAAAAAAAAAAAAAAAAAAAAAAAAAAAAAAAAAAAAAAAAAAAAAAAAAAAAAAAAAAAAAAAAAAAAAAAAAAAAAAAAAAAAAAAAAAAAAAAAAAAAAAAAAAAAAAAAAAAAAAAAAAAAAAAAAAAAAAAAAAAAAAAAAAAAAAAAAAAAAAAAAAAAAAAAAAAAAAAAAAAAAAAAAAAAAAAAAAAAAAAAAAAAAAAAAAAAAAAAAAAAAAAAAAAAAAAAAAAAAAAAAAAAAAAAAAAAAAAAAAAAAAAAAAAAAAAAAAAAAAAAAAAAAAAAAAAAAAAAAAAAAAAAAAAAAAAAAAAAAAAAAAAAAAAAAAAAAAAAAAAAAAAAAAAAAAAAAAAAAAAAAAAAAAAAAAAAAAAAAAAAAAAAAAAAAAAAAAAAAAAAAAAAAAAAAAAAAAAAAAAAAAAAAAAAAAAAAAAAAAAAAAAAAAAAAAAAAAAAAAAAAAAAAAAAAAAAAAAAAAAAAAAAAAAAAAAAAAAAAAAAAAAAAAAAAAAAAAAAAAAAAAAAAAAAAAAAAAAAAAAAAAAAAAAAAAAAAAAAAAAAAAAAAAAAAAAAAAAAAAAAAAAAAAAAAAAAAAAAAAAAAAAAAAAAAAAAAAAAAAAAAAAAAAAAAAAAAAAAAAAAAAAAAAAAAAAAAAAAAAAAAAAAAAAAAAAAAAAAAAAAAAAAAAAAAAAAAAAAAAAAAAAAAAAAAAAAAAAAAAAAAAAAAAAAAAAAAAAAAAAAAAAAAAAAAAAAAAAAAAAAAAAAAAAAAAAAAAAAAAAAAAAAAAAAAAAAAAAAAAAAAAAAAAAAAAAAAAAAAAAAAAAAAAAAAAAAAAAAAAAAAAAAAAAAAAAAAAAAAAAAAAAAAAAAAAAAAAAAAAAAAAAAAAAAAAAAAAAAAAAAAAAAAAAAAAAAAAAAAAAAAAAAAAAAAAAAAAAAAAAAAAAAAAAAAAAAAAAAAAAAAAAAAAAAAAAAAAAAAAAAAAAAAAAAAAAAAAAAAAAAAAAAAAAAAAAAAAAAAAAAAAAAAAAAAAAAAAAAAAAAAAAAAAAAAAAAAAAAAAAAAAAAAAAAAAAAAAAAAAAAAAAAAAAAAAAAAAAAAAAAAAAAAAAAAAAAAAAAAAAAAAAAAAAAAAAAAAAAAAAAAAAAAAAAAAAAAAAAAAAAAAAAAAAAAAAAAAAAAAAAAAAAAAAAAAAAAAAAAAAAAAAAAAAAAAAAAAAAAAAAAAAAAAAAAAAAAAAAAAAAAAAAAAAAAAAAAAAAAAAAAAAAAAAAAAAAAAAAAAAAAAAAAAAAAAAAAAAAAAAAAAAAAAAAAAAAAAAAAAAAAAAAAAAAAAAAAAAAAAAAAAAAAAAAAAAAAAAAAAAAAAAAAAAAAAAAAAAAAAAAAAAAAAAAAAAAAAAAAAAAAAAAAAAAAAAAAAAAAAAAAAAAAAAAAAAAAAAAAAAAAAAAAAAAAAAAAAAAAAAAAAAAAAAAAAAAAAAAAAAAAAAAAAAAAAAAAAAAAAAAAAAAAAAAAAAAAAAAAAAAAAAAAAAAAAAAAAAAAAAAAAAAAAAAAAAAAAAAAAAAAAAAAAAAAAAAAAAAAAAAAAAAAAAAAAAAAAAAAAAAAAAAAAAAAAAAAAAAAAAAAAAAAAAAAAAAAAAAAAAAAAAAAAAAAAAAAAAAAAAAAAAAAAAAAAAAAAAAAAAAAAAAAAAAAAAAAAAAAAAAAAAAAAAAAAAAAAAAAAAAAAAAAAAAAAAAAAAAAAAAAAAAAAAAAAAAAAAAAAAAAAAAAAAAAAAAAAAAAAAAAAAAAAAAAAAAAAAAAAAAAAAAAAAAAAAAAAAAAAAAAAAAAAAAAAAAAAAAAAAAAAAAAAAAAAAAAAAAAAAAAAAAAAAAAAAAAAAAAAAAAAAAAAAAAAAAAAAAAAAAAAAAAAAAAAAAAAAAAAAAAAAAAAAAAAAAAAAAAAAAAAAAAAAAAAAAAAAAAAAAAAAAAAAAAAAAAAAAAAAAAAAAAAAAAAAAAAAAAAAAAAAAAAAAAAAAAAAAAAAAAAAAAAAAAAAAAAAAAAAAAAAAAAAAAAAAAAAAAAAAAAAAAAAAAAAAAAAAAAAAAAAAAAAAAAAAAAAAAAAAAAAAAAAAAAAAAAAAAAAAAAAAAAAAAAAAAAAAAAAAAAAAAAAAAAAAAAAAAAAAAAAAAAAAAAAAAAAAAAAAAAAAAAAAAAAAAAAAAAAAAAAAAAAAAAAAAAAAAAAAAAAAAAAAAAAAAAAAAAAAAAAAAAAAAAAAAAAAAAAAAAAAAAAAAAAAAAAAAAAAAAAAAAAAAAAAAAAAAAAAAAAAAAAAAAAAAAAAAAAAAAAAAAAAAAAAAAAAAAAAAAAAAAAAAAAAAAAAAAAAAAAAAAAAAAAAAAAAAAAAAAAAAAAAAAAAAAAAAAAAAAAAAAAAAAAAAAAAAAAAAAAAAAAAAAAAAAAAAAAAAAAAAAAAAAAAAAAAAAAAAAAAAAAAAAAAAAAAAAAAAAAAAAAAAAAAAAAAAAAAAAAAAAAAAAAAAAAAAAAAAAAAAAAAAAAAAAAAAAAAAAAAAAAAAAAAAAAAAAAAAAAAAAAAAAAAAAAAAAAAAAAAAAAAAAAAAAAAAAAAAAAAAAAAAAAAAAAAAAAAAAAAAAAAAAAAAAAAAAAAAAAAAAAAAAAAAAAAAAAAAAAAAAAAAAAAAAAAAAAAAAAAAAAAAAAAAAAAAAAAAAAAAAAAAAAAAAAAAAAAAAAAAAAAAAAAAAAAAAAAAAAAAAAAAAAAAAAAAAAAAAAAAAAAAAAAAAAAAAAAAAAAAAAAAAAAAAAAAAAAAAAAAAAAAAAAAAAAAAAAAAAAAAAAAAAAAAAAAAAAAAAAAAAAAAAAAAAAAAAAAAAAAAAAAAAAAAAAAAAAAAAAAAAAAAAAAAAAAAAAAAAAAAAAAAAAAAAAAAAAAAAAAAAAAAAAAAAAAAAAAAAAAAAAAAAAAAAAAAAAAAAAAAAAAAAAAAAAAAAAAAAAAAAAAAAAAAAAAAAAAAAAAAAAAAAAAAAAAAAAAAAAAAAAAAAAAAAAAAAAAAAAAAAAAAAAAAAAAAAAAAAAAAAAAAAAAAAAAAAAAAAAAAAAAAAAAAAAAAAAAAAAAAAAAAAAAAAAAAAAAAAAAAAAAAAAAAAAAAAAAAAAAAAAAAAAAAAAAAAAAAAAAAAAAAAAAAAAAAAAAAAAAAAAAAAAAAAAAAAAAAAAAAAAAAAAAAAAAAAAAAAAAAAP/Z'}"
      ]
     },
     "execution_count": 31,
     "metadata": {},
     "output_type": "execute_result"
    }
   ],
   "source": [
    "driver = GameDriver()\n",
    "driver.init_ip()\n",
    "try:\n",
    "    driver.navigate(\"https://v6p9d9t4.ssl.hwcdn.net/html/1379043/index.html\")\n",
    "    driver.pause()\n",
    "    print(\"navigated properly\")\n",
    "    image = driver.get_screenshot()\n",
    "except Exception as e:\n",
    "    print(\"failed to navigate with exception: \")\n",
    "    print(e)\n",
    "finally:\n",
    "    print(driver.close())\n",
    "    print(\"closed\")\n",
    "image"
   ]
  },
  {
   "cell_type": "code",
   "execution_count": null,
   "metadata": {},
   "outputs": [],
   "source": []
  }
 ],
 "metadata": {
  "colab": {
   "name": "GameDriver2.ipynb",
   "provenance": []
  },
  "kernelspec": {
   "display_name": "Python 3",
   "language": "python",
   "name": "python3"
  },
  "language_info": {
   "codemirror_mode": {
    "name": "ipython",
    "version": 3
   },
   "file_extension": ".py",
   "mimetype": "text/x-python",
   "name": "python",
   "nbconvert_exporter": "python",
   "pygments_lexer": "ipython3",
   "version": "3.7.4"
  }
 },
 "nbformat": 4,
 "nbformat_minor": 4
}
