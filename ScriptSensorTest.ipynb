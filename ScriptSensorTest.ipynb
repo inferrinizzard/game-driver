{
 "cells": [
  {
   "cell_type": "code",
   "execution_count": 1,
   "metadata": {
    "scrolled": true
   },
   "outputs": [],
   "source": [
    "from script import Script\n",
    "from chromium import Chromium\n",
    "from chrome_dev_protocol import ChromeDevToolsProtocol as CDP\n",
    "from game_driver import GameDriver"
   ]
  },
  {
   "cell_type": "code",
   "execution_count": 2,
   "metadata": {
    "scrolled": true
   },
   "outputs": [
    {
     "name": "stdout",
     "output_type": "stream",
     "text": [
      "chrome started\n",
      "hosting at: ws://127.0.0.1:9222/devtools/browser/a65ca481-40eb-4725-94a8-d5f69c3c9900\n",
      "\n",
      "event: Target.attachedToTarget {'sessionId': 'C28DBBC362354076CA059448E5AFC17D', 'targetInfo': {'targetId': 'CCE7724332E0F6890692473CD627B089', 'type': 'page', 'title': '', 'url': 'http://ipchicken.com/', 'attached': True, 'browserContextId': 'B4A1F51A80DC5171522B31AB1C77C247'}, 'waitingForDebugger': False}\n"
     ]
    }
   ],
   "source": [
    "chromium = Chromium(headless=False)\n",
    "cdp = CDP(chromium.url)\n",
    "driver = GameDriver(cdp)"
   ]
  },
  {
   "cell_type": "code",
   "execution_count": 3,
   "metadata": {},
   "outputs": [
    {
     "data": {
      "text/plain": [
       "{'frameId': 'CCE7724332E0F6890692473CD627B089',\n",
       " 'loaderId': '239DC90C53306B461E4F1B318E414741'}"
      ]
     },
     "execution_count": 3,
     "metadata": {},
     "output_type": "execute_result"
    }
   ],
   "source": [
    "driver.navigate(\"http://orteil.dashnet.org/cookieclicker/\")"
   ]
  },
  {
   "cell_type": "code",
   "execution_count": 4,
   "metadata": {},
   "outputs": [
    {
     "data": {
      "text/plain": [
       "{'cookies': <script.Script at 0xf98ea10>}"
      ]
     },
     "execution_count": 4,
     "metadata": {},
     "output_type": "execute_result"
    }
   ],
   "source": [
    "driver.add_sensor('cookies',Script(\"Game.handmadeCookies\"))"
   ]
  },
  {
   "cell_type": "code",
   "execution_count": 8,
   "metadata": {},
   "outputs": [
    {
     "name": "stdout",
     "output_type": "stream",
     "text": [
      "{'cookies': {'result': {'type': 'number', 'value': 24, 'description': '24'}}}\n"
     ]
    }
   ],
   "source": [
    "res = driver.step()\n",
    "print(res)"
   ]
  },
  {
   "cell_type": "code",
   "execution_count": null,
   "metadata": {},
   "outputs": [],
   "source": []
  }
 ],
 "metadata": {
  "kernelspec": {
   "display_name": "Python 3",
   "language": "python",
   "name": "python3"
  },
  "language_info": {
   "codemirror_mode": {
    "name": "ipython",
    "version": 3
   },
   "file_extension": ".py",
   "mimetype": "text/x-python",
   "name": "python",
   "nbconvert_exporter": "python",
   "pygments_lexer": "ipython3",
   "version": "3.7.4"
  }
 },
 "nbformat": 4,
 "nbformat_minor": 2
}
