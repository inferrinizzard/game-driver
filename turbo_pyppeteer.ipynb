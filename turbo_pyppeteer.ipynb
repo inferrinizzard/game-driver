{
 "nbformat": 4,
 "nbformat_minor": 2,
 "metadata": {
  "language_info": {
   "name": "python",
   "codemirror_mode": {
    "name": "ipython",
    "version": 3
   },
   "version": "3.7.3-final"
  },
  "orig_nbformat": 2,
  "file_extension": ".py",
  "mimetype": "text/x-python",
  "name": "python",
  "npconvert_exporter": "python",
  "pygments_lexer": "ipython3",
  "version": 3,
  "kernelspec": {
   "name": "python37332bit992b1da092b34a6786d09b4ad30f59c7",
   "display_name": "Python 3.7.3 32-bit"
  }
 },
 "cells": [
  {
   "cell_type": "code",
   "execution_count": 1,
   "metadata": {},
   "outputs": [],
   "source": [
    "from game_driver_pyppeteer import GameDriverPyppeteer as GDP\n",
    "from keyboard import KeyboardAction, KeyboardSensor\n",
    "from time import sleep"
   ]
  },
  {
   "cell_type": "code",
   "execution_count": 2,
   "metadata": {},
   "outputs": [],
   "source": [
    "driver = GDP()\n",
    "await driver.init_browser()\n",
    "driver.navigate('https://unixpapa.com/js/testkey.html')"
   ]
  },
  {
   "cell_type": "code",
   "execution_count": 3,
   "metadata": {},
   "outputs": [
    {
     "data": {
      "text/plain": "{'keyboard': <keyboard.KeyboardSensor at 0x6509d90>}"
     },
     "execution_count": 3,
     "metadata": {},
     "output_type": "execute_result"
    }
   ],
   "source": [
    "await driver.add_sensor(\"keyboard\", KeyboardSensor())"
   ]
  },
  {
   "cell_type": "code",
   "execution_count": 4,
   "metadata": {},
   "outputs": [
    {
     "name": "stdout",
     "output_type": "stream",
     "text": "q pressed\na\na\na\na\nq pressed\na\na\na\na\nq pressed\na\na\na\na\n"
    }
   ],
   "source": [
    "q_count = 0\n",
    "while q_count <3:\n",
    "    sleep(1)\n",
    "    res = await driver.step()\n",
    "    if(\"Q\" in [key.key for time,key in res[\"keyboard\"]]):\n",
    "        print(\"q pressed\")\n",
    "        q_count = q_count+1\n",
    "        for i in range(4):\n",
    "            print(\"a injected\")\n",
    "            await driver.send(\"type\", target=\"textarea\", expression=\"a\")\n"
   ]
  },
  {
   "cell_type": "code",
   "execution_count": 5,
   "metadata": {},
   "outputs": [],
   "source": [
    "del driver"
   ]
  }
 ]
}