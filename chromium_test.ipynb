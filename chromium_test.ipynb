{
 "cells": [
  {
   "cell_type": "code",
   "execution_count": 1,
   "metadata": {},
   "outputs": [],
   "source": [
    "from chromium import Chromium"
   ]
  },
  {
   "cell_type": "code",
   "execution_count": 2,
   "metadata": {},
   "outputs": [
    {
     "name": "stdout",
     "output_type": "stream",
     "text": [
      "['--remote-debugging-port=9222', '', '', '--enable-surface-synchronization', '--run-all-compositor-stages-before-draw', '--disable-threaded-animation', '--disable-threaded-scrolling', '--disable-checker-imaging', '--disable-gpu']\n",
      "--remote-debugging-port=9222 --enable-surface-synchronization --run-all-compositor-stages-before-draw --disable-threaded-animation --disable-threaded-scrolling --disable-checker-imaging --disable-gpu\n",
      "chrome started\n",
      "hosting at: ws://127.0.0.1:9222/devtools/browser/115e1c20-03dd-44d5-8557-404e46c6cfe8\n",
      "\n"
     ]
    }
   ],
   "source": [
    "chromium = Chromium(headless=False)\n",
    "# del chromium"
   ]
  },
  {
   "cell_type": "code",
   "execution_count": null,
   "metadata": {},
   "outputs": [],
   "source": [
    "chromium.close()"
   ]
  },
  {
   "cell_type": "code",
   "execution_count": 5,
   "metadata": {},
   "outputs": [],
   "source": [
    "from subprocess import Popen, PIPE"
   ]
  },
  {
   "cell_type": "code",
   "execution_count": 11,
   "metadata": {},
   "outputs": [
    {
     "name": "stdout",
     "output_type": "stream",
     "text": [
      "hosting at: ws://127.0.0.1:9222/devtools/browser/1d236b00-e227-4612-a48c-5b7acc3db036\n",
      "\n"
     ]
    }
   ],
   "source": [
    "args = \"--remote-debugging-port=9222 --no-sandbox --enable-surface-synchronization --run-all-compositor-stages-before-draw --disable-threaded-animation --disable-threaded-scrolling --disable-checker-imaging --disable-gpu\"\n",
    "chrome = Popen(\".\\\\chrome-win\\\\chrome chromium-browser \"+args, shell=True, stdout=PIPE, stderr=PIPE)\n",
    "\n",
    "output = \"\"\n",
    "lines = 0\n",
    "while \"ws\" not in output:\n",
    "    output = str(chrome.stderr.readline())\n",
    "    lines = lines+1\n",
    "    if \"error\" in output or lines>100:\n",
    "        break\n",
    "try:\n",
    "    assert(\"ws\" in output)\n",
    "    url = output[output.index(\"ws\"):-5]\n",
    "    print(\"hosting at: \" + url + \"\\n\")\n",
    "except:\n",
    "    print(\"did not read ws url properly\")\n",
    "    print(\"latest output: \"+output)"
   ]
  }
 ],
 "metadata": {
  "kernelspec": {
   "display_name": "Python 3",
   "language": "python",
   "name": "python3"
  },
  "language_info": {
   "codemirror_mode": {
    "name": "ipython",
    "version": 3
   },
   "file_extension": ".py",
   "mimetype": "text/x-python",
   "name": "python",
   "nbconvert_exporter": "python",
   "pygments_lexer": "ipython3",
   "version": "3.7.3"
  }
 },
 "nbformat": 4,
 "nbformat_minor": 4
}
