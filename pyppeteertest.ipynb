{
 "nbformat": 4,
 "nbformat_minor": 2,
 "metadata": {
  "language_info": {
   "name": "python",
   "codemirror_mode": {
    "name": "ipython",
    "version": 3
   },
   "version": "3.7.3"
  },
  "orig_nbformat": 2,
  "file_extension": ".py",
  "mimetype": "text/x-python",
  "name": "python",
  "npconvert_exporter": "python",
  "pygments_lexer": "ipython3",
  "version": 3
 },
 "cells": [
  {
   "cell_type": "code",
   "execution_count": 2,
   "metadata": {},
   "outputs": [],
   "source": [
    "import asyncio\n",
    "from pyppeteer import launch\n",
    "from json import loads\n",
    "from keyboard import KeyboardAction\n",
    "\n",
    "def _patch_pyppeteer():\n",
    "    from typing import Any\n",
    "    from pyppeteer import connection, launcher\n",
    "    import websockets.client\n",
    "\n",
    "    class PatchedConnection(connection.Connection):  # type: ignore\n",
    "        def __init__(self, *args: Any, **kwargs: Any) -> None:\n",
    "            super().__init__(*args, **kwargs)\n",
    "            # the _ws argument is not yet connected, can simply be replaced with another\n",
    "            # with better defaults.\n",
    "            self._ws = websockets.client.connect(\n",
    "                self._url,\n",
    "                loop=self._loop,\n",
    "                # the following parameters are all passed to WebSocketCommonProtocol\n",
    "                # which markes all three as Optional, but connect() doesn't, hence the liberal\n",
    "                # use of type: ignore on these lines.\n",
    "                # fixed upstream but not yet released, see aaugustin/websockets#93ad88\n",
    "                max_size=None,  # type: ignore\n",
    "                ping_interval=None,  # type: ignore\n",
    "                ping_timeout=None,  # type: ignore\n",
    "            )\n",
    "\n",
    "    connection.Connection = PatchedConnection\n",
    "    # also imported as a  global in pyppeteer.launcher\n",
    "    launcher.Connection = PatchedConnection\n",
    "\n",
    "_patch_pyppeteer()"
   ]
  },
  {
   "cell_type": "code",
   "execution_count": 3,
   "metadata": {},
   "outputs": [
    {
     "data": {
      "text/plain": "{}"
     },
     "execution_count": 3,
     "metadata": {},
     "output_type": "execute_result"
    }
   ],
   "source": [
    "browser = await launch(headless=False)\n",
    "page = await browser.newPage()\n",
    "await page.goto('https://scorecounter.com/click-counter/')\n",
    "await page.evaluate('''\n",
    "        let keyEvents = [];\n",
    "        let keySensorInstallDate = +new Date();\n",
    "        ['keyup', 'keydown'].forEach(k =>\n",
    "            window.addEventListener(k, \n",
    "                e => keyEvents.push({\n",
    "                    event: k, \n",
    "                    key: String.fromCharCode(e.keyCode),\n",
    "                    time: +new Date() - keySensorInstallDate\n",
    "                }), \n",
    "            true)\n",
    "        );\n",
    "        window._getKeyboardEvents = () => keyEvents.splice(0, keyEvents.length);\n",
    "        ''', force_expr=True)\n",
    "# client = await page.target().createCDPSession()\n",
    "# await client.send()"
   ]
  },
  {
   "cell_type": "code",
   "execution_count": 6,
   "metadata": {},
   "outputs": [
    {
     "data": {
      "text/plain": "[(36839, {'key': 'T', 'keycode': 84, 'eventtype': 'keydown'}),\n (36951, {'key': 'E', 'keycode': 69, 'eventtype': 'keydown'}),\n (37003, {'key': 'T', 'keycode': 84, 'eventtype': 'keyup'}),\n (37026, {'key': 'E', 'keycode': 69, 'eventtype': 'keyup'}),\n (37135, {'key': 'S', 'keycode': 83, 'eventtype': 'keydown'}),\n (37211, {'key': 'S', 'keycode': 83, 'eventtype': 'keyup'}),\n (37259, {'key': 'T', 'keycode': 84, 'eventtype': 'keydown'}),\n (37340, {'key': 'T', 'keycode': 84, 'eventtype': 'keyup'})]"
     },
     "execution_count": 6,
     "metadata": {},
     "output_type": "execute_result"
    }
   ],
   "source": [
    "# q_count = 0\n",
    "# while(q_count < 3):\n",
    "res = await page.evaluate(\"JSON.stringify(window._getKeyboardEvents());\")\n",
    "keys = loads(res)\n",
    "keyboard_actions = [(k['time'], KeyboardAction(k[\"event\"], k[\"key\"])) for k in keys]\n",
    "keyboard_actions"
   ]
  },
  {
   "cell_type": "code",
   "execution_count": 7,
   "metadata": {},
   "outputs": [],
   "source": [
    "await browser.close()"
   ]
  },
  {
   "cell_type": "code",
   "execution_count": 3,
   "metadata": {},
   "outputs": [
    {
     "ename": "RuntimeError",
     "evalue": "This event loop is already running",
     "output_type": "error",
     "traceback": [
      "\u001b[1;31m---------------------------------------------------------------------------\u001b[0m",
      "\u001b[1;31mRuntimeError\u001b[0m                              Traceback (most recent call last)",
      "\u001b[1;32m<ipython-input-3-5776d10d15a1>\u001b[0m in \u001b[0;36m<module>\u001b[1;34m\u001b[0m\n\u001b[1;32m----> 1\u001b[1;33m \u001b[0masyncio\u001b[0m\u001b[1;33m.\u001b[0m\u001b[0mget_event_loop\u001b[0m\u001b[1;33m(\u001b[0m\u001b[1;33m)\u001b[0m\u001b[1;33m.\u001b[0m\u001b[0mrun_until_complete\u001b[0m\u001b[1;33m(\u001b[0m\u001b[0mmain\u001b[0m\u001b[1;33m(\u001b[0m\u001b[1;33m)\u001b[0m\u001b[1;33m)\u001b[0m\u001b[1;33m\u001b[0m\u001b[1;33m\u001b[0m\u001b[0m\n\u001b[0m",
      "\u001b[1;32m~\\AppData\\Local\\Programs\\Python\\Python37-32\\lib\\asyncio\\base_events.py\u001b[0m in \u001b[0;36mrun_until_complete\u001b[1;34m(self, future)\u001b[0m\n\u001b[0;32m    569\u001b[0m         \u001b[0mfuture\u001b[0m\u001b[1;33m.\u001b[0m\u001b[0madd_done_callback\u001b[0m\u001b[1;33m(\u001b[0m\u001b[0m_run_until_complete_cb\u001b[0m\u001b[1;33m)\u001b[0m\u001b[1;33m\u001b[0m\u001b[1;33m\u001b[0m\u001b[0m\n\u001b[0;32m    570\u001b[0m         \u001b[1;32mtry\u001b[0m\u001b[1;33m:\u001b[0m\u001b[1;33m\u001b[0m\u001b[1;33m\u001b[0m\u001b[0m\n\u001b[1;32m--> 571\u001b[1;33m             \u001b[0mself\u001b[0m\u001b[1;33m.\u001b[0m\u001b[0mrun_forever\u001b[0m\u001b[1;33m(\u001b[0m\u001b[1;33m)\u001b[0m\u001b[1;33m\u001b[0m\u001b[1;33m\u001b[0m\u001b[0m\n\u001b[0m\u001b[0;32m    572\u001b[0m         \u001b[1;32mexcept\u001b[0m\u001b[1;33m:\u001b[0m\u001b[1;33m\u001b[0m\u001b[1;33m\u001b[0m\u001b[0m\n\u001b[0;32m    573\u001b[0m             \u001b[1;32mif\u001b[0m \u001b[0mnew_task\u001b[0m \u001b[1;32mand\u001b[0m \u001b[0mfuture\u001b[0m\u001b[1;33m.\u001b[0m\u001b[0mdone\u001b[0m\u001b[1;33m(\u001b[0m\u001b[1;33m)\u001b[0m \u001b[1;32mand\u001b[0m \u001b[1;32mnot\u001b[0m \u001b[0mfuture\u001b[0m\u001b[1;33m.\u001b[0m\u001b[0mcancelled\u001b[0m\u001b[1;33m(\u001b[0m\u001b[1;33m)\u001b[0m\u001b[1;33m:\u001b[0m\u001b[1;33m\u001b[0m\u001b[1;33m\u001b[0m\u001b[0m\n",
      "\u001b[1;32m~\\AppData\\Local\\Programs\\Python\\Python37-32\\lib\\asyncio\\base_events.py\u001b[0m in \u001b[0;36mrun_forever\u001b[1;34m(self)\u001b[0m\n\u001b[0;32m    524\u001b[0m         \u001b[0mself\u001b[0m\u001b[1;33m.\u001b[0m\u001b[0m_check_closed\u001b[0m\u001b[1;33m(\u001b[0m\u001b[1;33m)\u001b[0m\u001b[1;33m\u001b[0m\u001b[1;33m\u001b[0m\u001b[0m\n\u001b[0;32m    525\u001b[0m         \u001b[1;32mif\u001b[0m \u001b[0mself\u001b[0m\u001b[1;33m.\u001b[0m\u001b[0mis_running\u001b[0m\u001b[1;33m(\u001b[0m\u001b[1;33m)\u001b[0m\u001b[1;33m:\u001b[0m\u001b[1;33m\u001b[0m\u001b[1;33m\u001b[0m\u001b[0m\n\u001b[1;32m--> 526\u001b[1;33m             \u001b[1;32mraise\u001b[0m \u001b[0mRuntimeError\u001b[0m\u001b[1;33m(\u001b[0m\u001b[1;34m'This event loop is already running'\u001b[0m\u001b[1;33m)\u001b[0m\u001b[1;33m\u001b[0m\u001b[1;33m\u001b[0m\u001b[0m\n\u001b[0m\u001b[0;32m    527\u001b[0m         \u001b[1;32mif\u001b[0m \u001b[0mevents\u001b[0m\u001b[1;33m.\u001b[0m\u001b[0m_get_running_loop\u001b[0m\u001b[1;33m(\u001b[0m\u001b[1;33m)\u001b[0m \u001b[1;32mis\u001b[0m \u001b[1;32mnot\u001b[0m \u001b[1;32mNone\u001b[0m\u001b[1;33m:\u001b[0m\u001b[1;33m\u001b[0m\u001b[1;33m\u001b[0m\u001b[0m\n\u001b[0;32m    528\u001b[0m             raise RuntimeError(\n",
      "\u001b[1;31mRuntimeError\u001b[0m: This event loop is already running"
     ]
    }
   ],
   "source": [
    "asyncio.get_event_loop().run_until_complete(main())"
   ]
  },
  {
   "cell_type": "code",
   "execution_count": null,
   "metadata": {},
   "outputs": [],
   "source": []
  }
 ]
}